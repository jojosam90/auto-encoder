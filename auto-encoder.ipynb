{
  "cells": [
    {
      "cell_type": "markdown",
      "metadata": {
        "id": "view-in-github",
        "colab_type": "text"
      },
      "source": [
        "<a href=\"https://colab.research.google.com/github/jojosam90/auto-encoder/blob/main/auto-encoder.ipynb\" target=\"_parent\"><img src=\"https://colab.research.google.com/assets/colab-badge.svg\" alt=\"Open In Colab\"/></a>"
      ]
    },
    {
      "cell_type": "code",
      "source": [
        "!pip install TensorBoard"
      ],
      "metadata": {
        "id": "RauJsUdJ5TDu"
      },
      "execution_count": null,
      "outputs": []
    },
    {
      "cell_type": "code",
      "source": [
        "import tensorflow as tf\n",
        "import numpy as np\n",
        "import matplotlib.pyplot as plt"
      ],
      "metadata": {
        "id": "nCddK70RcFnd"
      },
      "execution_count": null,
      "outputs": []
    },
    {
      "cell_type": "markdown",
      "source": [
        "## Loading Fashion MNIST train and test dataset, normalize and reshape "
      ],
      "metadata": {
        "id": "f61dAyGndEcB"
      }
    },
    {
      "cell_type": "code",
      "source": [
        "fashion_mnist = tf.keras.datasets.fashion_mnist\n",
        "(x_train,_) ,(x_test,_) = fashion_mnist.load_data()\n",
        "x_train = x_train.astype('float32') / 255\n",
        "x_test = x_test.astype('float32') / 255\n",
        "x_train = np.reshape(x_train,(len(x_train),28,28,1))\n",
        "x_test = np.reshape(x_test,(len(x_test),28,28,1))"
      ],
      "metadata": {
        "id": "zF8c5xtEcMoe"
      },
      "execution_count": 3,
      "outputs": []
    },
    {
      "cell_type": "markdown",
      "source": [
        "## Buidling encoder \n",
        "### Encoder encodes high dimensional input into lower-dimensional latent (bottleneck)"
      ],
      "metadata": {
        "id": "ZTlZW8DwdMrJ"
      }
    },
    {
      "cell_type": "markdown",
      "source": [
        "### INPUT"
      ],
      "metadata": {
        "id": "iIS_Lli4d1Kg"
      }
    },
    {
      "cell_type": "code",
      "source": [
        "# pass gray scale input image of size (28,28,1)\n",
        "inputs = tf.keras.Input(shape=(28,28,1),name ='input_layer')"
      ],
      "metadata": {
        "id": "v9XJTka_dVmc"
      },
      "execution_count": 4,
      "outputs": []
    },
    {
      "cell_type": "markdown",
      "source": [
        "### ENCODER"
      ],
      "metadata": {
        "id": "chI2zU_id3gq"
      }
    },
    {
      "cell_type": "code",
      "source": [
        "# Conv Block 1 -> BatchNorm -> leaky Relu\n",
        "encoded = tf.keras.layers.Conv2D(32,kernel_size =3,strides =1,padding='same',name='conv_1')(inputs)\n",
        "encoded = tf.keras.layers.BatchNormalization(name='batchnorm_1')(encoded)\n",
        "encoded = tf.keras.layers.LeakyReLU(name='leaky_relu_1')(encoded)\n",
        "\n",
        "# Conv Block 2 -> BatchNorm -> leaky Relu\n",
        "encoded = tf.keras.layers.Conv2D(64,kernel_size =3,strides =2,padding='same',name='conv_2')(encoded)\n",
        "encoded = tf.keras.layers.BatchNormalization(name='batchnorm_2')(encoded)\n",
        "encoded = tf.keras.layers.LeakyReLU(name='leaky_relu_2')(encoded)\n",
        "\n",
        "# Conv Block 3 -> BatchNorm -> leaky Relu\n",
        "encoded = tf.keras.layers.Conv2D(64,kernel_size =3,strides =2,padding='same',name='conv_3')(encoded)\n",
        "encoded = tf.keras.layers.BatchNormalization(name='batchnorm_3')(encoded)\n",
        "encoded = tf.keras.layers.LeakyReLU(name='leaky_relu_3')(encoded)\n"
      ],
      "metadata": {
        "id": "DQEzqzERdSyL"
      },
      "execution_count": 5,
      "outputs": []
    },
    {
      "cell_type": "markdown",
      "source": [
        "## Buidling decoder \n",
        "### Decoder will decompress latent representation to recreate input data."
      ],
      "metadata": {
        "id": "mDu6aHeU0wc-"
      }
    },
    {
      "cell_type": "markdown",
      "source": [
        "### DECODER"
      ],
      "metadata": {
        "id": "JHgc1CztfS32"
      }
    },
    {
      "cell_type": "code",
      "source": [
        "# DeConv Block 1 -> BatchNorm -> leaky Relu\n",
        "decoded = tf.keras.layers.Conv2DTranspose(64,3,strides =1,padding='same',name='conv_transpose_1')(encoded)\n",
        "decoded = tf.keras.layers.BatchNormalization(name='batchnorm_4')(decoded)\n",
        "decoded = tf.keras.layers.LeakyReLU(name='leaky_relu_4')(decoded)\n",
        "\n",
        "# DeConv Block 2 -> BatchNorm -> leaky Relu\n",
        "decoded = tf.keras.layers.Conv2DTranspose(64,3,strides =2,padding='same',name='conv_transpose_2')(decoded)\n",
        "decoded = tf.keras.layers.BatchNormalization(name='batchnorm_5')(decoded)\n",
        "decoded = tf.keras.layers.LeakyReLU(name='leaky_relu_5')(decoded)\n",
        "\n",
        "# DeConv Block 3 -> BatchNorm -> leaky Relu\n",
        "decoded = tf.keras.layers.Conv2DTranspose(32,3,2,padding='same',name='conv_transpose_3')(decoded)\n",
        "decoded = tf.keras.layers.BatchNormalization(name='batchnorm_6')(decoded)\n",
        "decoded = tf.keras.layers.LeakyReLU(name='leaky_relu_6')(decoded)"
      ],
      "metadata": {
        "id": "Ks7Whr1TfWba"
      },
      "execution_count": 6,
      "outputs": []
    },
    {
      "cell_type": "markdown",
      "source": [
        "### OUTPUT"
      ],
      "metadata": {
        "id": "UA2Cd9aE1VKr"
      }
    },
    {
      "cell_type": "code",
      "source": [
        "# output (use sigmoid activation functions as it flattens the output to be in range [0,1])\n",
        "outputs = tf.keras.layers.Conv2DTranspose(1,3,1,padding='same', activation ='sigmoid', name ='conv_transpose_4')(decoded)"
      ],
      "metadata": {
        "id": "XycE5BPY2vzX"
      },
      "execution_count": 7,
      "outputs": []
    },
    {
      "cell_type": "code",
      "source": [
        "# Define Structural Similarity Index (SSIM) Loss Function\n",
        "def SSIMLoss(y_true,y_pred):\n",
        "  return 1-tf.reduce_mean(tf.image.ssim(y_true,y_pred,1.0))"
      ],
      "metadata": {
        "id": "pn6LJinf3NSw"
      },
      "execution_count": 8,
      "outputs": []
    },
    {
      "cell_type": "code",
      "source": [
        "# Define Autoencoder : Optimiser: Adam , Loss: SSIM Loss\n",
        "autoencoder = tf.keras.Model(inputs, outputs)\n",
        "optimizer = tf.keras.optimizers.Adam(lr = 0.0005)\n",
        "autoencoder.compile(optimizer = optimizer, loss = SSIMLoss)"
      ],
      "metadata": {
        "colab": {
          "base_uri": "https://localhost:8080/"
        },
        "id": "CjaXcLkL3f12",
        "outputId": "b3466185-2814-438f-a9c3-1871b5663b6e"
      },
      "execution_count": 9,
      "outputs": [
        {
          "output_type": "stream",
          "name": "stderr",
          "text": [
            "/usr/local/lib/python3.7/dist-packages/keras/optimizer_v2/adam.py:105: UserWarning: The `lr` argument is deprecated, use `learning_rate` instead.\n",
            "  super(Adam, self).__init__(name, **kwargs)\n"
          ]
        }
      ]
    },
    {
      "cell_type": "code",
      "source": [
        "# Setting up TENSORBOARD as callback, for logging loss metric and Training\n",
        "!rm -rf ./tmp/ # clear previous log\n",
        "from keras.callbacks import TensorBoard\n",
        "hsit = autoencoder.fit(x_train, x_train,\n",
        "                       epochs = 10,\n",
        "                       batch_size = 128,\n",
        "                       shuffle= True,\n",
        "                       validation_data = (x_test,x_test), callbacks=[TensorBoard(log_dir='/tmp/autoencoder')])"
      ],
      "metadata": {
        "colab": {
          "base_uri": "https://localhost:8080/"
        },
        "id": "mAm4-Iza4E0G",
        "outputId": "5485161b-fcc4-49c1-9b3e-8a5a8353540b"
      },
      "execution_count": 13,
      "outputs": [
        {
          "output_type": "stream",
          "name": "stdout",
          "text": [
            "Epoch 1/10\n",
            "469/469 [==============================] - 31s 38ms/step - loss: 0.0851 - val_loss: 0.2106\n",
            "Epoch 2/10\n",
            "469/469 [==============================] - 17s 36ms/step - loss: 0.0278 - val_loss: 0.0233\n",
            "Epoch 3/10\n",
            "469/469 [==============================] - 17s 36ms/step - loss: 0.0198 - val_loss: 0.0182\n",
            "Epoch 4/10\n",
            "469/469 [==============================] - 17s 37ms/step - loss: 0.0162 - val_loss: 0.0159\n",
            "Epoch 5/10\n",
            "469/469 [==============================] - 17s 37ms/step - loss: 0.0138 - val_loss: 0.0117\n",
            "Epoch 6/10\n",
            "469/469 [==============================] - 17s 36ms/step - loss: 0.0122 - val_loss: 0.0119\n",
            "Epoch 7/10\n",
            "469/469 [==============================] - 17s 36ms/step - loss: 0.0112 - val_loss: 0.0139\n",
            "Epoch 8/10\n",
            "469/469 [==============================] - 17s 37ms/step - loss: 0.0102 - val_loss: 0.0125\n",
            "Epoch 9/10\n",
            "469/469 [==============================] - 17s 36ms/step - loss: 0.0095 - val_loss: 0.0112\n",
            "Epoch 10/10\n",
            "469/469 [==============================] - 17s 37ms/step - loss: 0.0089 - val_loss: 0.0095\n"
          ]
        }
      ]
    }
  ],
  "metadata": {
    "colab": {
      "collapsed_sections": [],
      "name": "Welcome To Colaboratory",
      "toc_visible": true,
      "provenance": [],
      "include_colab_link": true
    },
    "kernelspec": {
      "display_name": "Python 3",
      "name": "python3"
    },
    "accelerator": "GPU"
  },
  "nbformat": 4,
  "nbformat_minor": 0
}